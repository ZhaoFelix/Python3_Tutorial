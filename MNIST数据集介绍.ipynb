{
 "nbformat": 4,
 "nbformat_minor": 2,
 "metadata": {
  "language_info": {
   "name": "python",
   "codemirror_mode": {
    "name": "ipython",
    "version": 3
   },
   "version": "3.7.5-final"
  },
  "orig_nbformat": 2,
  "file_extension": ".py",
  "mimetype": "text/x-python",
  "name": "python",
  "npconvert_exporter": "python",
  "pygments_lexer": "ipython3",
  "version": 3,
  "kernelspec": {
   "name": "python37464bitebb2583fa06d4f41bdd5a093d412b76b",
   "display_name": "Python 3.7.4 64-bit"
  }
 },
 "cells": [
  {
   "cell_type": "markdown",
   "metadata": {},
   "source": [
    "### 分类识别\n",
    "\n",
    "MNIST手写数字识别数据集：\n",
    "![](./images/1.png)\n",
    "\n",
    "`MNIST数据集`来自美国的标准与技术研究所，数据集由来自250个不同人手写的数字构成，其中50%是高中生，50% 来自普查局的工作人员。\n",
    "\n",
    "整个数据集包括训练集55000张图片，验证集5000张图片，测试集10000张图片。\n"
   ],
   "execution_count": null,
   "outputs": []
  },
  {
   "cell_type": "markdown",
   "metadata": {},
   "source": [
    "#### 数据集获取\n",
    "\n",
    "MNIST数据集可在[http://yann.lecun.com/exdb/mnist/]() 直接下载，也可以使用Tensorflow提供的数据集读取方法获取。"
   ],
   "execution_count": null,
   "outputs": []
  },
  {
   "cell_type": "code",
   "execution_count": 1,
   "metadata": {},
   "outputs": [
    {
     "output_type": "stream",
     "name": "stderr",
     "text": "WARNING: Logging before flag parsing goes to stderr.\nW0326 16:24:58.442808 4640140736 deprecation.py:323] From <ipython-input-1-7bbdc690e9c8>:3: read_data_sets (from tensorflow.contrib.learn.python.learn.datasets.mnist) is deprecated and will be removed in a future version.\nInstructions for updating:\nPlease use alternatives such as official/mnist/dataset.py from tensorflow/models.\nW0326 16:24:58.443493 4640140736 deprecation.py:323] From /usr/local/lib/python3.7/site-packages/tensorflow/contrib/learn/python/learn/datasets/mnist.py:260: maybe_download (from tensorflow.contrib.learn.python.learn.datasets.base) is deprecated and will be removed in a future version.\nInstructions for updating:\nPlease write your own downloading logic.\nW0326 16:24:58.444159 4640140736 deprecation.py:323] From /usr/local/lib/python3.7/site-packages/tensorflow/contrib/learn/python/learn/datasets/mnist.py:262: extract_images (from tensorflow.contrib.learn.python.learn.datasets.mnist) is deprecated and will be removed in a future version.\nInstructions for updating:\nPlease use tf.data to implement this functionality.\nW0326 16:24:58.618373 4640140736 deprecation.py:323] From /usr/local/lib/python3.7/site-packages/tensorflow/contrib/learn/python/learn/datasets/mnist.py:267: extract_labels (from tensorflow.contrib.learn.python.learn.datasets.mnist) is deprecated and will be removed in a future version.\nInstructions for updating:\nPlease use tf.data to implement this functionality.\nW0326 16:24:58.620450 4640140736 deprecation.py:323] From /usr/local/lib/python3.7/site-packages/tensorflow/contrib/learn/python/learn/datasets/mnist.py:110: dense_to_one_hot (from tensorflow.contrib.learn.python.learn.datasets.mnist) is deprecated and will be removed in a future version.\nInstructions for updating:\nPlease use tf.one_hot on tensors.\nExtracting MNIST/train-images-idx3-ubyte.gz\nExtracting MNIST/train-labels-idx1-ubyte.gz\nExtracting MNIST/t10k-images-idx3-ubyte.gz\nW0326 16:24:58.657574 4640140736 deprecation.py:323] From /usr/local/lib/python3.7/site-packages/tensorflow/contrib/learn/python/learn/datasets/mnist.py:290: DataSet.__init__ (from tensorflow.contrib.learn.python.learn.datasets.mnist) is deprecated and will be removed in a future version.\nInstructions for updating:\nPlease use alternatives such as official/mnist/dataset.py from tensorflow/models.\nExtracting MNIST/t10k-labels-idx1-ubyte.gz\n"
    }
   ],
   "source": [
    "import tensorflow as tf \n",
    "import tensorflow.examples.tutorials.mnist.input_data as input_data\n",
    "mnist = input_data.read_data_sets('MNIST/',one_hot=True)"
   ]
  },
  {
   "cell_type": "markdown",
   "metadata": {},
   "source": [
    "#### 查看数据集的数量"
   ],
   "execution_count": null,
   "outputs": []
  },
  {
   "cell_type": "code",
   "execution_count": 2,
   "metadata": {},
   "outputs": [
    {
     "output_type": "stream",
     "name": "stdout",
     "text": "训练集数量： 55000\n验证集数量： 5000\n测试集数量： 10000\n"
    }
   ],
   "source": [
    "print('训练集数量：',mnist.train.num_examples)\n",
    "print('验证集数量：',mnist.validation.num_examples)\n",
    "print('测试集数量：',mnist.test.num_examples)"
   ]
  },
  {
   "cell_type": "code",
   "execution_count": 3,
   "metadata": {},
   "outputs": [
    {
     "output_type": "stream",
     "name": "stdout",
     "text": "图片形状： (55000, 784) 标签形状： (55000, 10)\n"
    }
   ],
   "source": [
    "print('图片形状：',mnist.train.images.shape,'标签形状：',mnist.train.labels.shape)"
   ]
  },
  {
   "cell_type": "markdown",
   "metadata": {},
   "source": [
    "#### 查看一张图片的具体数据"
   ],
   "execution_count": null,
   "outputs": []
  },
  {
   "cell_type": "code",
   "execution_count": 4,
   "metadata": {},
   "outputs": [
    {
     "output_type": "execute_result",
     "data": {
      "text/plain": "array([0.        , 0.        , 0.        , 0.        , 0.        ,\n       0.        , 0.        , 0.        , 0.        , 0.        ,\n       0.        , 0.        , 0.        , 0.        , 0.        ,\n       0.        , 0.        , 0.        , 0.        , 0.        ,\n       0.        , 0.        , 0.        , 0.        , 0.        ,\n       0.        , 0.        , 0.        , 0.        , 0.        ,\n       0.        , 0.        , 0.        , 0.        , 0.        ,\n       0.        , 0.        , 0.        , 0.        , 0.        ,\n       0.        , 0.        , 0.        , 0.        , 0.        ,\n       0.        , 0.        , 0.        , 0.        , 0.        ,\n       0.        , 0.        , 0.        , 0.        , 0.        ,\n       0.        , 0.        , 0.        , 0.        , 0.        ,\n       0.        , 0.        , 0.        , 0.        , 0.        ,\n       0.        , 0.        , 0.        , 0.        , 0.        ,\n       0.        , 0.        , 0.        , 0.        , 0.        ,\n       0.        , 0.        , 0.        , 0.        , 0.        ,\n       0.        , 0.        , 0.        , 0.        , 0.        ,\n       0.        , 0.        , 0.        , 0.        , 0.        ,\n       0.        , 0.        , 0.        , 0.        , 0.        ,\n       0.        , 0.        , 0.        , 0.        , 0.        ,\n       0.        , 0.        , 0.        , 0.        , 0.        ,\n       0.        , 0.        , 0.        , 0.        , 0.        ,\n       0.        , 0.        , 0.        , 0.        , 0.        ,\n       0.        , 0.        , 0.        , 0.        , 0.        ,\n       0.        , 0.        , 0.        , 0.        , 0.        ,\n       0.        , 0.        , 0.        , 0.        , 0.        ,\n       0.        , 0.        , 0.        , 0.        , 0.        ,\n       0.        , 0.        , 0.        , 0.        , 0.        ,\n       0.        , 0.        , 0.        , 0.        , 0.        ,\n       0.        , 0.        , 0.        , 0.        , 0.        ,\n       0.        , 0.        , 0.        , 0.        , 0.        ,\n       0.        , 0.        , 0.        , 0.        , 0.        ,\n       0.        , 0.        , 0.        , 0.        , 0.        ,\n       0.        , 0.        , 0.        , 0.        , 0.        ,\n       0.        , 0.        , 0.        , 0.        , 0.        ,\n       0.        , 0.        , 0.        , 0.        , 0.        ,\n       0.        , 0.        , 0.        , 0.        , 0.        ,\n       0.        , 0.        , 0.        , 0.        , 0.        ,\n       0.        , 0.        , 0.        , 0.        , 0.        ,\n       0.        , 0.        , 0.        , 0.        , 0.        ,\n       0.        , 0.        , 0.        , 0.        , 0.        ,\n       0.        , 0.        , 0.3803922 , 0.37647063, 0.3019608 ,\n       0.46274513, 0.2392157 , 0.        , 0.        , 0.        ,\n       0.        , 0.        , 0.        , 0.        , 0.        ,\n       0.        , 0.        , 0.        , 0.        , 0.        ,\n       0.        , 0.        , 0.3529412 , 0.5411765 , 0.9215687 ,\n       0.9215687 , 0.9215687 , 0.9215687 , 0.9215687 , 0.9215687 ,\n       0.9843138 , 0.9843138 , 0.9725491 , 0.9960785 , 0.9607844 ,\n       0.9215687 , 0.74509805, 0.08235294, 0.        , 0.        ,\n       0.        , 0.        , 0.        , 0.        , 0.        ,\n       0.        , 0.        , 0.        , 0.        , 0.54901963,\n       0.9843138 , 0.9960785 , 0.9960785 , 0.9960785 , 0.9960785 ,\n       0.9960785 , 0.9960785 , 0.9960785 , 0.9960785 , 0.9960785 ,\n       0.9960785 , 0.9960785 , 0.9960785 , 0.9960785 , 0.9960785 ,\n       0.7411765 , 0.09019608, 0.        , 0.        , 0.        ,\n       0.        , 0.        , 0.        , 0.        , 0.        ,\n       0.        , 0.        , 0.8862746 , 0.9960785 , 0.81568635,\n       0.7803922 , 0.7803922 , 0.7803922 , 0.7803922 , 0.54509807,\n       0.2392157 , 0.2392157 , 0.2392157 , 0.2392157 , 0.2392157 ,\n       0.5019608 , 0.8705883 , 0.9960785 , 0.9960785 , 0.7411765 ,\n       0.08235294, 0.        , 0.        , 0.        , 0.        ,\n       0.        , 0.        , 0.        , 0.        , 0.        ,\n       0.14901961, 0.32156864, 0.0509804 , 0.        , 0.        ,\n       0.        , 0.        , 0.        , 0.        , 0.        ,\n       0.        , 0.        , 0.        , 0.        , 0.13333334,\n       0.8352942 , 0.9960785 , 0.9960785 , 0.45098042, 0.        ,\n       0.        , 0.        , 0.        , 0.        , 0.        ,\n       0.        , 0.        , 0.        , 0.        , 0.        ,\n       0.        , 0.        , 0.        , 0.        , 0.        ,\n       0.        , 0.        , 0.        , 0.        , 0.        ,\n       0.        , 0.        , 0.        , 0.32941177, 0.9960785 ,\n       0.9960785 , 0.9176471 , 0.        , 0.        , 0.        ,\n       0.        , 0.        , 0.        , 0.        , 0.        ,\n       0.        , 0.        , 0.        , 0.        , 0.        ,\n       0.        , 0.        , 0.        , 0.        , 0.        ,\n       0.        , 0.        , 0.        , 0.        , 0.        ,\n       0.        , 0.32941177, 0.9960785 , 0.9960785 , 0.9176471 ,\n       0.        , 0.        , 0.        , 0.        , 0.        ,\n       0.        , 0.        , 0.        , 0.        , 0.        ,\n       0.        , 0.        , 0.        , 0.        , 0.        ,\n       0.        , 0.        , 0.        , 0.        , 0.        ,\n       0.        , 0.        , 0.        , 0.4156863 , 0.6156863 ,\n       0.9960785 , 0.9960785 , 0.95294124, 0.20000002, 0.        ,\n       0.        , 0.        , 0.        , 0.        , 0.        ,\n       0.        , 0.        , 0.        , 0.        , 0.        ,\n       0.        , 0.        , 0.        , 0.        , 0.        ,\n       0.        , 0.09803922, 0.45882356, 0.8941177 , 0.8941177 ,\n       0.8941177 , 0.9921569 , 0.9960785 , 0.9960785 , 0.9960785 ,\n       0.9960785 , 0.94117653, 0.        , 0.        , 0.        ,\n       0.        , 0.        , 0.        , 0.        , 0.        ,\n       0.        , 0.        , 0.        , 0.        , 0.        ,\n       0.        , 0.        , 0.26666668, 0.4666667 , 0.86274517,\n       0.9960785 , 0.9960785 , 0.9960785 , 0.9960785 , 0.9960785 ,\n       0.9960785 , 0.9960785 , 0.9960785 , 0.9960785 , 0.5568628 ,\n       0.        , 0.        , 0.        , 0.        , 0.        ,\n       0.        , 0.        , 0.        , 0.        , 0.        ,\n       0.        , 0.        , 0.        , 0.14509805, 0.73333335,\n       0.9921569 , 0.9960785 , 0.9960785 , 0.9960785 , 0.8745099 ,\n       0.8078432 , 0.8078432 , 0.29411766, 0.26666668, 0.8431373 ,\n       0.9960785 , 0.9960785 , 0.45882356, 0.        , 0.        ,\n       0.        , 0.        , 0.        , 0.        , 0.        ,\n       0.        , 0.        , 0.        , 0.        , 0.        ,\n       0.4431373 , 0.8588236 , 0.9960785 , 0.9490197 , 0.89019614,\n       0.45098042, 0.34901962, 0.12156864, 0.        , 0.        ,\n       0.        , 0.        , 0.7843138 , 0.9960785 , 0.9450981 ,\n       0.16078432, 0.        , 0.        , 0.        , 0.        ,\n       0.        , 0.        , 0.        , 0.        , 0.        ,\n       0.        , 0.        , 0.        , 0.6627451 , 0.9960785 ,\n       0.6901961 , 0.24313727, 0.        , 0.        , 0.        ,\n       0.        , 0.        , 0.        , 0.        , 0.18823531,\n       0.9058824 , 0.9960785 , 0.9176471 , 0.        , 0.        ,\n       0.        , 0.        , 0.        , 0.        , 0.        ,\n       0.        , 0.        , 0.        , 0.        , 0.        ,\n       0.        , 0.07058824, 0.48627454, 0.        , 0.        ,\n       0.        , 0.        , 0.        , 0.        , 0.        ,\n       0.        , 0.        , 0.32941177, 0.9960785 , 0.9960785 ,\n       0.6509804 , 0.        , 0.        , 0.        , 0.        ,\n       0.        , 0.        , 0.        , 0.        , 0.        ,\n       0.        , 0.        , 0.        , 0.        , 0.        ,\n       0.        , 0.        , 0.        , 0.        , 0.        ,\n       0.        , 0.        , 0.        , 0.        , 0.        ,\n       0.54509807, 0.9960785 , 0.9333334 , 0.22352943, 0.        ,\n       0.        , 0.        , 0.        , 0.        , 0.        ,\n       0.        , 0.        , 0.        , 0.        , 0.        ,\n       0.        , 0.        , 0.        , 0.        , 0.        ,\n       0.        , 0.        , 0.        , 0.        , 0.        ,\n       0.        , 0.        , 0.8235295 , 0.9803922 , 0.9960785 ,\n       0.65882355, 0.        , 0.        , 0.        , 0.        ,\n       0.        , 0.        , 0.        , 0.        , 0.        ,\n       0.        , 0.        , 0.        , 0.        , 0.        ,\n       0.        , 0.        , 0.        , 0.        , 0.        ,\n       0.        , 0.        , 0.        , 0.        , 0.        ,\n       0.9490197 , 0.9960785 , 0.93725497, 0.22352943, 0.        ,\n       0.        , 0.        , 0.        , 0.        , 0.        ,\n       0.        , 0.        , 0.        , 0.        , 0.        ,\n       0.        , 0.        , 0.        , 0.        , 0.        ,\n       0.        , 0.        , 0.        , 0.        , 0.        ,\n       0.        , 0.        , 0.34901962, 0.9843138 , 0.9450981 ,\n       0.3372549 , 0.        , 0.        , 0.        , 0.        ,\n       0.        , 0.        , 0.        , 0.        , 0.        ,\n       0.        , 0.        , 0.        , 0.        , 0.        ,\n       0.        , 0.        , 0.        , 0.        , 0.        ,\n       0.        , 0.        , 0.        , 0.        , 0.01960784,\n       0.8078432 , 0.96470594, 0.6156863 , 0.        , 0.        ,\n       0.        , 0.        , 0.        , 0.        , 0.        ,\n       0.        , 0.        , 0.        , 0.        , 0.        ,\n       0.        , 0.        , 0.        , 0.        , 0.        ,\n       0.        , 0.        , 0.        , 0.        , 0.        ,\n       0.        , 0.        , 0.01568628, 0.45882356, 0.27058825,\n       0.        , 0.        , 0.        , 0.        , 0.        ,\n       0.        , 0.        , 0.        , 0.        , 0.        ,\n       0.        , 0.        , 0.        , 0.        , 0.        ,\n       0.        , 0.        , 0.        , 0.        , 0.        ,\n       0.        , 0.        , 0.        , 0.        , 0.        ,\n       0.        , 0.        , 0.        , 0.        , 0.        ,\n       0.        , 0.        , 0.        , 0.        , 0.        ,\n       0.        , 0.        , 0.        , 0.        ], dtype=float32)"
     },
     "metadata": {},
     "execution_count": 4
    }
   ],
   "source": [
    "mnist.train.images[0]"
   ]
  },
  {
   "cell_type": "code",
   "execution_count": 5,
   "metadata": {},
   "outputs": [
    {
     "output_type": "execute_result",
     "data": {
      "text/plain": "784"
     },
     "metadata": {},
     "execution_count": 5
    }
   ],
   "source": [
    "len(mnist.train.images[0])"
   ]
  },
  {
   "cell_type": "code",
   "execution_count": 6,
   "metadata": {},
   "outputs": [
    {
     "output_type": "execute_result",
     "data": {
      "text/plain": "(784,)"
     },
     "metadata": {},
     "execution_count": 6
    }
   ],
   "source": [
    "mnist.train.images[0].shape"
   ]
  },
  {
   "cell_type": "markdown",
   "metadata": {},
   "source": [
    "#### 可视化image"
   ],
   "execution_count": null,
   "outputs": []
  },
  {
   "cell_type": "code",
   "execution_count": 7,
   "metadata": {},
   "outputs": [],
   "source": [
    "import matplotlib.pyplot as plt "
   ]
  },
  {
   "cell_type": "code",
   "execution_count": 8,
   "metadata": {},
   "outputs": [],
   "source": [
    "def plot_image(image):\n",
    "    plt.imshow(image.reshape(28,28),cmap='binary')\n",
    "    plt.show()"
   ]
  },
  {
   "cell_type": "code",
   "execution_count": 9,
   "metadata": {},
   "outputs": [
    {
     "output_type": "display_data",
     "data": {
      "text/plain": "<Figure size 432x288 with 1 Axes>",
      "image/svg+xml": "<?xml version=\"1.0\" encoding=\"utf-8\" standalone=\"no\"?>\n<!DOCTYPE svg PUBLIC \"-//W3C//DTD SVG 1.1//EN\"\n  \"http://www.w3.org/Graphics/SVG/1.1/DTD/svg11.dtd\">\n<!-- Created with matplotlib (https://matplotlib.org/) -->\n<svg height=\"246.965pt\" version=\"1.1\" viewBox=\"0 0 248.84 246.965\" width=\"248.84pt\" xmlns=\"http://www.w3.org/2000/svg\" xmlns:xlink=\"http://www.w3.org/1999/xlink\">\n <defs>\n  <style type=\"text/css\">\n*{stroke-linecap:butt;stroke-linejoin:round;}\n  </style>\n </defs>\n <g id=\"figure_1\">\n  <g id=\"patch_1\">\n   <path d=\"M 0 246.965 \nL 248.84 246.965 \nL 248.84 0 \nL 0 0 \nz\n\" style=\"fill:none;\"/>\n  </g>\n  <g id=\"axes_1\">\n   <g id=\"patch_2\">\n    <path d=\"M 24.2 224.64 \nL 241.64 224.64 \nL 241.64 7.2 \nL 24.2 7.2 \nz\n\" style=\"fill:#ffffff;\"/>\n   </g>\n   <g clip-path=\"url(#pa0629abd11)\">\n    <image height=\"218\" id=\"image5116feee3f\" transform=\"scale(1 -1)translate(0 -218)\" width=\"218\" x=\"24.2\" xlink:href=\"data:image/png;base64,\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\" y=\"-6.64\"/>\n   </g>\n   <g id=\"matplotlib.axis_1\">\n    <g id=\"xtick_1\">\n     <g id=\"line2d_1\">\n      <defs>\n       <path d=\"M 0 0 \nL 0 3.5 \n\" id=\"m164b4e6b8d\" style=\"stroke:#000000;stroke-width:0.8;\"/>\n      </defs>\n      <g>\n       <use style=\"stroke:#000000;stroke-width:0.8;\" x=\"28.082857\" xlink:href=\"#m164b4e6b8d\" y=\"224.64\"/>\n      </g>\n     </g>\n     <g id=\"text_1\">\n      <!-- 0 -->\n      <defs>\n       <path d=\"M 46.484375 35.15625 \nQ 46.484375 21.09375 41.40625 10.9375 \nQ 36.328125 0.78125 25 0.78125 \nQ 13.671875 0.78125 8.390625 10.9375 \nQ 3.125 21.09375 3.125 35.15625 \nQ 3.125 49.21875 8.390625 59.171875 \nQ 13.671875 69.140625 25 69.140625 \nQ 36.328125 69.140625 41.40625 59.171875 \nQ 46.484375 49.21875 46.484375 35.15625 \nz\nM 37.109375 35.15625 \nQ 37.109375 47.65625 34.171875 54.6875 \nQ 31.25 61.71875 25 61.71875 \nQ 18.75 61.71875 15.625 54.6875 \nQ 12.5 47.65625 12.5 35.15625 \nQ 12.5 22.65625 15.625 15.421875 \nQ 18.75 8.203125 25 8.203125 \nQ 31.25 8.203125 34.171875 15.421875 \nQ 37.109375 22.65625 37.109375 35.15625 \nz\n\" id=\"SimHei-48\"/>\n      </defs>\n      <g transform=\"translate(25.582857 238.475937)scale(0.1 -0.1)\">\n       <use xlink:href=\"#SimHei-48\"/>\n      </g>\n     </g>\n    </g>\n    <g id=\"xtick_2\">\n     <g id=\"line2d_2\">\n      <g>\n       <use style=\"stroke:#000000;stroke-width:0.8;\" x=\"66.911429\" xlink:href=\"#m164b4e6b8d\" y=\"224.64\"/>\n      </g>\n     </g>\n     <g id=\"text_2\">\n      <!-- 5 -->\n      <defs>\n       <path d=\"M 44.140625 25.78125 \nQ 44.140625 14.0625 38.46875 7.421875 \nQ 32.8125 0.78125 23.4375 0.78125 \nQ 15.234375 0.78125 9.953125 6.25 \nQ 4.6875 11.71875 4.296875 21.09375 \nL 13.28125 21.09375 \nQ 13.28125 15.234375 16.015625 11.71875 \nQ 18.75 8.203125 23.828125 8.203125 \nQ 28.90625 8.203125 31.828125 12.5 \nQ 34.765625 16.796875 34.765625 25.78125 \nQ 34.765625 33.59375 32.21875 37.296875 \nQ 29.6875 41.015625 25.390625 41.015625 \nQ 21.875 41.015625 19.328125 39.453125 \nQ 16.796875 37.890625 14.453125 33.984375 \nL 6.640625 33.984375 \nL 8.984375 68.359375 \nL 42.578125 68.359375 \nL 42.578125 60.9375 \nL 16.40625 60.9375 \nL 14.84375 42.96875 \nQ 17.1875 45.3125 19.921875 46.484375 \nQ 22.65625 47.65625 27.34375 47.65625 \nQ 34.765625 47.65625 39.453125 41.984375 \nQ 44.140625 36.328125 44.140625 25.78125 \nz\n\" id=\"SimHei-53\"/>\n      </defs>\n      <g transform=\"translate(64.411429 238.475937)scale(0.1 -0.1)\">\n       <use xlink:href=\"#SimHei-53\"/>\n      </g>\n     </g>\n    </g>\n    <g id=\"xtick_3\">\n     <g id=\"line2d_3\">\n      <g>\n       <use style=\"stroke:#000000;stroke-width:0.8;\" x=\"105.74\" xlink:href=\"#m164b4e6b8d\" y=\"224.64\"/>\n      </g>\n     </g>\n     <g id=\"text_3\">\n      <!-- 10 -->\n      <defs>\n       <path d=\"M 30.46875 1.5625 \nL 21.484375 1.5625 \nL 21.484375 53.515625 \nL 9.765625 53.515625 \nL 9.765625 58.203125 \nQ 16.796875 58.203125 20.703125 60.9375 \nQ 24.609375 63.671875 25.78125 69.140625 \nL 30.46875 69.140625 \nz\n\" id=\"SimHei-49\"/>\n      </defs>\n      <g transform=\"translate(100.74 238.475937)scale(0.1 -0.1)\">\n       <use xlink:href=\"#SimHei-49\"/>\n       <use x=\"50\" xlink:href=\"#SimHei-48\"/>\n      </g>\n     </g>\n    </g>\n    <g id=\"xtick_4\">\n     <g id=\"line2d_4\">\n      <g>\n       <use style=\"stroke:#000000;stroke-width:0.8;\" x=\"144.568571\" xlink:href=\"#m164b4e6b8d\" y=\"224.64\"/>\n      </g>\n     </g>\n     <g id=\"text_4\">\n      <!-- 15 -->\n      <g transform=\"translate(139.568571 238.475937)scale(0.1 -0.1)\">\n       <use xlink:href=\"#SimHei-49\"/>\n       <use x=\"50\" xlink:href=\"#SimHei-53\"/>\n      </g>\n     </g>\n    </g>\n    <g id=\"xtick_5\">\n     <g id=\"line2d_5\">\n      <g>\n       <use style=\"stroke:#000000;stroke-width:0.8;\" x=\"183.397143\" xlink:href=\"#m164b4e6b8d\" y=\"224.64\"/>\n      </g>\n     </g>\n     <g id=\"text_5\">\n      <!-- 20 -->\n      <defs>\n       <path d=\"M 44.53125 1.5625 \nL 4.6875 1.5625 \nL 4.6875 7.8125 \nQ 7.03125 14.0625 11.125 19.328125 \nQ 15.234375 24.609375 23.046875 31.25 \nQ 28.90625 36.328125 31.4375 40.625 \nQ 33.984375 44.921875 33.984375 50 \nQ 33.984375 55.078125 31.828125 58.390625 \nQ 29.6875 61.71875 25 61.71875 \nQ 21.09375 61.71875 18.15625 58.203125 \nQ 15.234375 54.6875 15.234375 45.703125 \nL 6.25 45.703125 \nQ 6.640625 57.03125 11.515625 63.078125 \nQ 16.40625 69.140625 25.390625 69.140625 \nQ 33.984375 69.140625 38.671875 63.859375 \nQ 43.359375 58.59375 43.359375 49.609375 \nQ 43.359375 42.1875 39.0625 36.71875 \nQ 34.765625 31.25 28.515625 25.78125 \nQ 21.484375 19.53125 18.75 16.40625 \nQ 16.015625 13.28125 13.671875 8.984375 \nL 44.53125 8.984375 \nz\n\" id=\"SimHei-50\"/>\n      </defs>\n      <g transform=\"translate(178.397143 238.475937)scale(0.1 -0.1)\">\n       <use xlink:href=\"#SimHei-50\"/>\n       <use x=\"50\" xlink:href=\"#SimHei-48\"/>\n      </g>\n     </g>\n    </g>\n    <g id=\"xtick_6\">\n     <g id=\"line2d_6\">\n      <g>\n       <use style=\"stroke:#000000;stroke-width:0.8;\" x=\"222.225714\" xlink:href=\"#m164b4e6b8d\" y=\"224.64\"/>\n      </g>\n     </g>\n     <g id=\"text_6\">\n      <!-- 25 -->\n      <g transform=\"translate(217.225714 238.475937)scale(0.1 -0.1)\">\n       <use xlink:href=\"#SimHei-50\"/>\n       <use x=\"50\" xlink:href=\"#SimHei-53\"/>\n      </g>\n     </g>\n    </g>\n   </g>\n   <g id=\"matplotlib.axis_2\">\n    <g id=\"ytick_1\">\n     <g id=\"line2d_7\">\n      <defs>\n       <path d=\"M 0 0 \nL -3.5 0 \n\" id=\"mad1d70ac3e\" style=\"stroke:#000000;stroke-width:0.8;\"/>\n      </defs>\n      <g>\n       <use style=\"stroke:#000000;stroke-width:0.8;\" x=\"24.2\" xlink:href=\"#mad1d70ac3e\" y=\"11.082857\"/>\n      </g>\n     </g>\n     <g id=\"text_7\">\n      <!-- 0 -->\n      <g transform=\"translate(12.2 14.500826)scale(0.1 -0.1)\">\n       <use xlink:href=\"#SimHei-48\"/>\n      </g>\n     </g>\n    </g>\n    <g id=\"ytick_2\">\n     <g id=\"line2d_8\">\n      <g>\n       <use style=\"stroke:#000000;stroke-width:0.8;\" x=\"24.2\" xlink:href=\"#mad1d70ac3e\" y=\"49.911429\"/>\n      </g>\n     </g>\n     <g id=\"text_8\">\n      <!-- 5 -->\n      <g transform=\"translate(12.2 53.329397)scale(0.1 -0.1)\">\n       <use xlink:href=\"#SimHei-53\"/>\n      </g>\n     </g>\n    </g>\n    <g id=\"ytick_3\">\n     <g id=\"line2d_9\">\n      <g>\n       <use style=\"stroke:#000000;stroke-width:0.8;\" x=\"24.2\" xlink:href=\"#mad1d70ac3e\" y=\"88.74\"/>\n      </g>\n     </g>\n     <g id=\"text_9\">\n      <!-- 10 -->\n      <g transform=\"translate(7.2 92.157969)scale(0.1 -0.1)\">\n       <use xlink:href=\"#SimHei-49\"/>\n       <use x=\"50\" xlink:href=\"#SimHei-48\"/>\n      </g>\n     </g>\n    </g>\n    <g id=\"ytick_4\">\n     <g id=\"line2d_10\">\n      <g>\n       <use style=\"stroke:#000000;stroke-width:0.8;\" x=\"24.2\" xlink:href=\"#mad1d70ac3e\" y=\"127.568571\"/>\n      </g>\n     </g>\n     <g id=\"text_10\">\n      <!-- 15 -->\n      <g transform=\"translate(7.2 130.98654)scale(0.1 -0.1)\">\n       <use xlink:href=\"#SimHei-49\"/>\n       <use x=\"50\" xlink:href=\"#SimHei-53\"/>\n      </g>\n     </g>\n    </g>\n    <g id=\"ytick_5\">\n     <g id=\"line2d_11\">\n      <g>\n       <use style=\"stroke:#000000;stroke-width:0.8;\" x=\"24.2\" xlink:href=\"#mad1d70ac3e\" y=\"166.397143\"/>\n      </g>\n     </g>\n     <g id=\"text_11\">\n      <!-- 20 -->\n      <g transform=\"translate(7.2 169.815112)scale(0.1 -0.1)\">\n       <use xlink:href=\"#SimHei-50\"/>\n       <use x=\"50\" xlink:href=\"#SimHei-48\"/>\n      </g>\n     </g>\n    </g>\n    <g id=\"ytick_6\">\n     <g id=\"line2d_12\">\n      <g>\n       <use style=\"stroke:#000000;stroke-width:0.8;\" x=\"24.2\" xlink:href=\"#mad1d70ac3e\" y=\"205.225714\"/>\n      </g>\n     </g>\n     <g id=\"text_12\">\n      <!-- 25 -->\n      <g transform=\"translate(7.2 208.643683)scale(0.1 -0.1)\">\n       <use xlink:href=\"#SimHei-50\"/>\n       <use x=\"50\" xlink:href=\"#SimHei-53\"/>\n      </g>\n     </g>\n    </g>\n   </g>\n   <g id=\"patch_3\">\n    <path d=\"M 24.2 224.64 \nL 24.2 7.2 \n\" style=\"fill:none;stroke:#000000;stroke-linecap:square;stroke-linejoin:miter;stroke-width:0.8;\"/>\n   </g>\n   <g id=\"patch_4\">\n    <path d=\"M 241.64 224.64 \nL 241.64 7.2 \n\" style=\"fill:none;stroke:#000000;stroke-linecap:square;stroke-linejoin:miter;stroke-width:0.8;\"/>\n   </g>\n   <g id=\"patch_5\">\n    <path d=\"M 24.2 224.64 \nL 241.64 224.64 \n\" style=\"fill:none;stroke:#000000;stroke-linecap:square;stroke-linejoin:miter;stroke-width:0.8;\"/>\n   </g>\n   <g id=\"patch_6\">\n    <path d=\"M 24.2 7.2 \nL 241.64 7.2 \n\" style=\"fill:none;stroke:#000000;stroke-linecap:square;stroke-linejoin:miter;stroke-width:0.8;\"/>\n   </g>\n  </g>\n </g>\n <defs>\n  <clipPath id=\"pa0629abd11\">\n   <rect height=\"217.44\" width=\"217.44\" x=\"24.2\" y=\"7.2\"/>\n  </clipPath>\n </defs>\n</svg>\n",
      "image/png": "[encoded data removed]"
     },
     "metadata": {
      "needs_background": "light"
     }
    }
   ],
   "source": [
    "plot_image(mnist.train.images[1])"
   ]
  },
  {
   "cell_type": "markdown",
   "metadata": {},
   "source": [
    "#### 关于reshape"
   ],
   "execution_count": null,
   "outputs": []
  },
  {
   "cell_type": "code",
   "execution_count": 10,
   "metadata": {},
   "outputs": [
    {
     "output_type": "execute_result",
     "data": {
      "text/plain": "array([[1, 2, 4],\n       [5, 6, 7]])"
     },
     "metadata": {},
     "execution_count": 10
    }
   ],
   "source": [
    "import numpy as np\n",
    "int_array = np.array([1,2,4,5,6,7])\n",
    "int_array.reshape(2,3)"
   ]
  },
  {
   "cell_type": "code",
   "execution_count": 11,
   "metadata": {},
   "outputs": [
    {
     "output_type": "display_data",
     "data": {
      "text/plain": "<Figure size 432x288 with 1 Axes>",
      "image/svg+xml": "<?xml version=\"1.0\" encoding=\"utf-8\" standalone=\"no\"?>\n<!DOCTYPE svg PUBLIC \"-//W3C//DTD SVG 1.1//EN\"\n  \"http://www.w3.org/Graphics/SVG/1.1/DTD/svg11.dtd\">\n<!-- Created with matplotlib (https://matplotlib.org/) -->\n<svg height=\"113.653683pt\" version=\"1.1\" viewBox=\"0 0 366.2 113.653683\" width=\"366.2pt\" xmlns=\"http://www.w3.org/2000/svg\" xmlns:xlink=\"http://www.w3.org/1999/xlink\">\n <defs>\n  <style type=\"text/css\">\n*{stroke-linecap:butt;stroke-linejoin:round;}\n  </style>\n </defs>\n <g id=\"figure_1\">\n  <g id=\"patch_1\">\n   <path d=\"M 0 113.653683 \nL 366.2 113.653683 \nL 366.2 0 \nL 0 0 \nz\n\" style=\"fill:none;\"/>\n  </g>\n  <g id=\"axes_1\">\n   <g id=\"patch_2\">\n    <path d=\"M 24.2 91.328683 \nL 359 91.328683 \nL 359 7.628683 \nL 24.2 7.628683 \nz\n\" style=\"fill:#ffffff;\"/>\n   </g>\n   <g clip-path=\"url(#pb5452ea0ff)\">\n    <image height=\"84\" id=\"image86e47c0d5b\" transform=\"scale(1 -1)translate(0 -84)\" width=\"335\" x=\"24.2\" xlink:href=\"data:image/png;base64,\niVBORw0KGgoAAAANSUhEUgAAAU8AAABUCAYAAAACq7UeAAAABHNCSVQICAgIfAhkiAAAA/tJREFUeJzt3T1Ilmscx/GUQ4Y4RYOWYEpC4SJCNBQhCJbgCwlODi4tDuKsYkNRUNAmkquTRA4VOCuijjYF1hAOiotSieGkZzgv0/8+h+ePnc6jn8/4RR4uHH5ccPvcVhwfHx+fA6Aklb/6AADlyHgCJBhPgATjCZBgPAESfvvVB/hZ9vb2wt7a2hr2jo6OsM/MzIT9/PnzuYNx5m1ubob9+fPnYZ+cnAx7XV3diZ2J0rl5AiQYT4AE4wmQYDwBEownQMKpfdp+8eLFsH/8+DHs9+/fD3tVVVXYu7q6wv769euw19TUhJ2zp6GhIewHBwdhv3z5ctjv3bsX9oWFhbBXVrornSS/TYAE4wmQYDwBEownQILxBEio8Cb5f7a2thb22dnZsL969aqkz79y5UrY5+fnw37r1q2SPp/yt7y8HPbe3t6wf/36NexXr14N++joaNgfPnwYdn858gc3T4AE4wmQYDwBEownQILxBEjwtP0/8vnz57DfvHkz7N++fQt70VvFHz9+nDsYp87379/DvrKyEvYXL16EfXFxMexF740o+k79af0LETdPgATjCZBgPAESjCdAgvEESDi1b5I/Ke3t7WFfWloK+6VLl8JeX18f9uvXr4d9fHw87D09PWGHv7x9+zbsRe9L2NvbK+nzi37+06dPYfe0HYC/GU+ABOMJkGA8ARKMJ0CCp+3/4sGDB2Hf2NgI+87OTtiL/md2X19f2JuamsJeUVERds6eO3fuhL3oO+x3794N+9zcXNhv3LiRO9gZ4eYJkGA8ARKMJ0CC8QRIMJ4ACd4k/4s9e/Ys7BMTE2G/cOFC2IuesLa1teUORtkq+ouP1dXVsD99+jTs6+vrYa+urg77hw8fwn7t2rWwlzs3T4AE4wmQYDwBEownQILxBEjw3fYTNj09HfaDg4OwHx4elvT5RT+/vb0ddk/bz57a2tqw9/f3l9R//PgR9paWlrA3NzeH/f3792Hv7u4Oe7lw8wRIMJ4ACcYTIMF4AiQYT4CEsn/avrW1FfaXL1+Gva6uLuyPHj0Ke6lPw0s1NjYW9qLvFbe2tv7M4/A/9OXLl7AX/X/2ovcl7O7uhv3o6Kik8xS9X+HNmzdh7+zsLOnzy4WbJ0CC8QRIMJ4ACcYTIMF4AiR4k/yfpqamwv7kyZOwDw0NhX14eDjsjY2NuYNRtoqekr979y7sTU1NYR8cHAz7/v5+See5fft22EdGRsI+MDAQ9spKd65z59w8AVKMJ0CC8QRIMJ4ACcYTIMHTdoAEN0+ABOMJkGA8ARKMJ0CC8QRIMJ4ACcYTIMF4AiQYT4AE4wmQYDwBEownQILxBEgwngAJxhMgwXgCJBhPgITfAVEj0NsQmzN8AAAAAElFTkSuQmCC\" y=\"-7.328683\"/>\n   </g>\n   <g id=\"matplotlib.axis_1\">\n    <g id=\"xtick_1\">\n     <g id=\"line2d_1\">\n      <defs>\n       <path d=\"M 0 0 \nL 0 3.5 \n\" id=\"ma268d6a2dd\" style=\"stroke:#000000;stroke-width:0.8;\"/>\n      </defs>\n      <g>\n       <use style=\"stroke:#000000;stroke-width:0.8;\" x=\"27.189286\" xlink:href=\"#ma268d6a2dd\" y=\"91.328683\"/>\n      </g>\n     </g>\n     <g id=\"text_1\">\n      <!-- 0 -->\n      <defs>\n       <path d=\"M 46.484375 35.15625 \nQ 46.484375 21.09375 41.40625 10.9375 \nQ 36.328125 0.78125 25 0.78125 \nQ 13.671875 0.78125 8.390625 10.9375 \nQ 3.125 21.09375 3.125 35.15625 \nQ 3.125 49.21875 8.390625 59.171875 \nQ 13.671875 69.140625 25 69.140625 \nQ 36.328125 69.140625 41.40625 59.171875 \nQ 46.484375 49.21875 46.484375 35.15625 \nz\nM 37.109375 35.15625 \nQ 37.109375 47.65625 34.171875 54.6875 \nQ 31.25 61.71875 25 61.71875 \nQ 18.75 61.71875 15.625 54.6875 \nQ 12.5 47.65625 12.5 35.15625 \nQ 12.5 22.65625 15.625 15.421875 \nQ 18.75 8.203125 25 8.203125 \nQ 31.25 8.203125 34.171875 15.421875 \nQ 37.109375 22.65625 37.109375 35.15625 \nz\n\" id=\"SimHei-48\"/>\n      </defs>\n      <g transform=\"translate(24.689286 105.164621)scale(0.1 -0.1)\">\n       <use xlink:href=\"#SimHei-48\"/>\n      </g>\n     </g>\n    </g>\n    <g id=\"xtick_2\">\n     <g id=\"line2d_2\">\n      <g>\n       <use style=\"stroke:#000000;stroke-width:0.8;\" x=\"86.975\" xlink:href=\"#ma268d6a2dd\" y=\"91.328683\"/>\n      </g>\n     </g>\n     <g id=\"text_2\">\n      <!-- 10 -->\n      <defs>\n       <path d=\"M 30.46875 1.5625 \nL 21.484375 1.5625 \nL 21.484375 53.515625 \nL 9.765625 53.515625 \nL 9.765625 58.203125 \nQ 16.796875 58.203125 20.703125 60.9375 \nQ 24.609375 63.671875 25.78125 69.140625 \nL 30.46875 69.140625 \nz\n\" id=\"SimHei-49\"/>\n      </defs>\n      <g transform=\"translate(81.975 105.164621)scale(0.1 -0.1)\">\n       <use xlink:href=\"#SimHei-49\"/>\n       <use x=\"50\" xlink:href=\"#SimHei-48\"/>\n      </g>\n     </g>\n    </g>\n    <g id=\"xtick_3\">\n     <g id=\"line2d_3\">\n      <g>\n       <use style=\"stroke:#000000;stroke-width:0.8;\" x=\"146.760714\" xlink:href=\"#ma268d6a2dd\" y=\"91.328683\"/>\n      </g>\n     </g>\n     <g id=\"text_3\">\n      <!-- 20 -->\n      <defs>\n       <path d=\"M 44.53125 1.5625 \nL 4.6875 1.5625 \nL 4.6875 7.8125 \nQ 7.03125 14.0625 11.125 19.328125 \nQ 15.234375 24.609375 23.046875 31.25 \nQ 28.90625 36.328125 31.4375 40.625 \nQ 33.984375 44.921875 33.984375 50 \nQ 33.984375 55.078125 31.828125 58.390625 \nQ 29.6875 61.71875 25 61.71875 \nQ 21.09375 61.71875 18.15625 58.203125 \nQ 15.234375 54.6875 15.234375 45.703125 \nL 6.25 45.703125 \nQ 6.640625 57.03125 11.515625 63.078125 \nQ 16.40625 69.140625 25.390625 69.140625 \nQ 33.984375 69.140625 38.671875 63.859375 \nQ 43.359375 58.59375 43.359375 49.609375 \nQ 43.359375 42.1875 39.0625 36.71875 \nQ 34.765625 31.25 28.515625 25.78125 \nQ 21.484375 19.53125 18.75 16.40625 \nQ 16.015625 13.28125 13.671875 8.984375 \nL 44.53125 8.984375 \nz\n\" id=\"SimHei-50\"/>\n      </defs>\n      <g transform=\"translate(141.760714 105.164621)scale(0.1 -0.1)\">\n       <use xlink:href=\"#SimHei-50\"/>\n       <use x=\"50\" xlink:href=\"#SimHei-48\"/>\n      </g>\n     </g>\n    </g>\n    <g id=\"xtick_4\">\n     <g id=\"line2d_4\">\n      <g>\n       <use style=\"stroke:#000000;stroke-width:0.8;\" x=\"206.546429\" xlink:href=\"#ma268d6a2dd\" y=\"91.328683\"/>\n      </g>\n     </g>\n     <g id=\"text_4\">\n      <!-- 30 -->\n      <defs>\n       <path d=\"M 44.140625 20.3125 \nQ 44.140625 11.328125 38.46875 6.046875 \nQ 32.8125 0.78125 24.21875 0.78125 \nQ 15.625 0.78125 9.953125 6.046875 \nQ 4.296875 11.328125 4.296875 22.265625 \nL 13.28125 22.265625 \nQ 13.28125 14.84375 16.203125 11.515625 \nQ 19.140625 8.203125 24.21875 8.203125 \nQ 29.296875 8.203125 32.03125 11.328125 \nQ 34.765625 14.453125 34.765625 21.09375 \nQ 34.765625 26.5625 31.828125 29.6875 \nQ 28.90625 32.8125 21.484375 32.8125 \nL 21.484375 39.453125 \nQ 27.734375 39.453125 30.65625 42.578125 \nQ 33.59375 45.703125 33.59375 51.953125 \nQ 33.59375 56.640625 31.4375 59.375 \nQ 29.296875 62.109375 24.609375 62.109375 \nQ 19.921875 62.109375 17.375 58.78125 \nQ 14.84375 55.46875 14.453125 49.21875 \nL 5.859375 49.21875 \nQ 6.640625 58.203125 11.515625 63.671875 \nQ 16.40625 69.140625 24.609375 69.140625 \nQ 33.203125 69.140625 37.890625 64.25 \nQ 42.578125 59.375 42.578125 52.34375 \nQ 42.578125 45.703125 40.234375 41.984375 \nQ 37.890625 38.28125 32.421875 36.328125 \nQ 37.890625 35.15625 41.015625 30.859375 \nQ 44.140625 26.5625 44.140625 20.3125 \nz\n\" id=\"SimHei-51\"/>\n      </defs>\n      <g transform=\"translate(201.546429 105.164621)scale(0.1 -0.1)\">\n       <use xlink:href=\"#SimHei-51\"/>\n       <use x=\"50\" xlink:href=\"#SimHei-48\"/>\n      </g>\n     </g>\n    </g>\n    <g id=\"xtick_5\">\n     <g id=\"line2d_5\">\n      <g>\n       <use style=\"stroke:#000000;stroke-width:0.8;\" x=\"266.332143\" xlink:href=\"#ma268d6a2dd\" y=\"91.328683\"/>\n      </g>\n     </g>\n     <g id=\"text_5\">\n      <!-- 40 -->\n      <defs>\n       <path d=\"M 46.484375 18.75 \nL 38.28125 18.75 \nL 38.28125 1.5625 \nL 29.296875 1.5625 \nL 29.296875 18.75 \nL 3.125 18.75 \nL 3.125 26.171875 \nL 29.296875 69.140625 \nL 38.28125 69.140625 \nL 38.28125 26.171875 \nL 46.484375 26.171875 \nz\nM 29.296875 26.171875 \nL 29.296875 55.078125 \nL 11.71875 26.171875 \nz\n\" id=\"SimHei-52\"/>\n      </defs>\n      <g transform=\"translate(261.332143 105.164621)scale(0.1 -0.1)\">\n       <use xlink:href=\"#SimHei-52\"/>\n       <use x=\"50\" xlink:href=\"#SimHei-48\"/>\n      </g>\n     </g>\n    </g>\n    <g id=\"xtick_6\">\n     <g id=\"line2d_6\">\n      <g>\n       <use style=\"stroke:#000000;stroke-width:0.8;\" x=\"326.117857\" xlink:href=\"#ma268d6a2dd\" y=\"91.328683\"/>\n      </g>\n     </g>\n     <g id=\"text_6\">\n      <!-- 50 -->\n      <defs>\n       <path d=\"M 44.140625 25.78125 \nQ 44.140625 14.0625 38.46875 7.421875 \nQ 32.8125 0.78125 23.4375 0.78125 \nQ 15.234375 0.78125 9.953125 6.25 \nQ 4.6875 11.71875 4.296875 21.09375 \nL 13.28125 21.09375 \nQ 13.28125 15.234375 16.015625 11.71875 \nQ 18.75 8.203125 23.828125 8.203125 \nQ 28.90625 8.203125 31.828125 12.5 \nQ 34.765625 16.796875 34.765625 25.78125 \nQ 34.765625 33.59375 32.21875 37.296875 \nQ 29.6875 41.015625 25.390625 41.015625 \nQ 21.875 41.015625 19.328125 39.453125 \nQ 16.796875 37.890625 14.453125 33.984375 \nL 6.640625 33.984375 \nL 8.984375 68.359375 \nL 42.578125 68.359375 \nL 42.578125 60.9375 \nL 16.40625 60.9375 \nL 14.84375 42.96875 \nQ 17.1875 45.3125 19.921875 46.484375 \nQ 22.65625 47.65625 27.34375 47.65625 \nQ 34.765625 47.65625 39.453125 41.984375 \nQ 44.140625 36.328125 44.140625 25.78125 \nz\n\" id=\"SimHei-53\"/>\n      </defs>\n      <g transform=\"translate(321.117857 105.164621)scale(0.1 -0.1)\">\n       <use xlink:href=\"#SimHei-53\"/>\n       <use x=\"50\" xlink:href=\"#SimHei-48\"/>\n      </g>\n     </g>\n    </g>\n   </g>\n   <g id=\"matplotlib.axis_2\">\n    <g id=\"ytick_1\">\n     <g id=\"line2d_7\">\n      <defs>\n       <path d=\"M 0 0 \nL -3.5 0 \n\" id=\"m9257498139\" style=\"stroke:#000000;stroke-width:0.8;\"/>\n      </defs>\n      <g>\n       <use style=\"stroke:#000000;stroke-width:0.8;\" x=\"24.2\" xlink:href=\"#m9257498139\" y=\"10.617969\"/>\n      </g>\n     </g>\n     <g id=\"text_7\">\n      <!-- 0 -->\n      <g transform=\"translate(12.2 14.035937)scale(0.1 -0.1)\">\n       <use xlink:href=\"#SimHei-48\"/>\n      </g>\n     </g>\n    </g>\n    <g id=\"ytick_2\">\n     <g id=\"line2d_8\">\n      <g>\n       <use style=\"stroke:#000000;stroke-width:0.8;\" x=\"24.2\" xlink:href=\"#m9257498139\" y=\"40.510826\"/>\n      </g>\n     </g>\n     <g id=\"text_8\">\n      <!-- 5 -->\n      <g transform=\"translate(12.2 43.928795)scale(0.1 -0.1)\">\n       <use xlink:href=\"#SimHei-53\"/>\n      </g>\n     </g>\n    </g>\n    <g id=\"ytick_3\">\n     <g id=\"line2d_9\">\n      <g>\n       <use style=\"stroke:#000000;stroke-width:0.8;\" x=\"24.2\" xlink:href=\"#m9257498139\" y=\"70.403683\"/>\n      </g>\n     </g>\n     <g id=\"text_9\">\n      <!-- 10 -->\n      <g transform=\"translate(7.2 73.821652)scale(0.1 -0.1)\">\n       <use xlink:href=\"#SimHei-49\"/>\n       <use x=\"50\" xlink:href=\"#SimHei-48\"/>\n      </g>\n     </g>\n    </g>\n   </g>\n   <g id=\"patch_3\">\n    <path d=\"M 24.2 91.328683 \nL 24.2 7.628683 \n\" style=\"fill:none;stroke:#000000;stroke-linecap:square;stroke-linejoin:miter;stroke-width:0.8;\"/>\n   </g>\n   <g id=\"patch_4\">\n    <path d=\"M 359 91.328683 \nL 359 7.628683 \n\" style=\"fill:none;stroke:#000000;stroke-linecap:square;stroke-linejoin:miter;stroke-width:0.8;\"/>\n   </g>\n   <g id=\"patch_5\">\n    <path d=\"M 24.2 91.328683 \nL 359 91.328683 \n\" style=\"fill:none;stroke:#000000;stroke-linecap:square;stroke-linejoin:miter;stroke-width:0.8;\"/>\n   </g>\n   <g id=\"patch_6\">\n    <path d=\"M 24.2 7.628683 \nL 359 7.628683 \n\" style=\"fill:none;stroke:#000000;stroke-linecap:square;stroke-linejoin:miter;stroke-width:0.8;\"/>\n   </g>\n  </g>\n </g>\n <defs>\n  <clipPath id=\"pb5452ea0ff\">\n   <rect height=\"83.7\" width=\"334.8\" x=\"24.2\" y=\"7.628683\"/>\n  </clipPath>\n </defs>\n</svg>\n",
      "image/png": "[encoded data removed]"
     },
     "metadata": {
      "needs_background": "light"
     }
    }
   ],
   "source": [
    "plt.imshow(mnist.train.images[20000].reshape(14,56),cmap='binary')\n",
    "plt.show()"
   ]
  },
  {
   "cell_type": "markdown",
   "metadata": {},
   "source": [
    "len(mnist.train.images[0])"
   ],
   "execution_count": null,
   "outputs": []
  },
  {
   "cell_type": "markdown",
   "metadata": {},
   "source": [
    "#### 标签数据与独热编码"
   ],
   "execution_count": null,
   "outputs": []
  },
  {
   "cell_type": "code",
   "execution_count": 12,
   "metadata": {},
   "outputs": [
    {
     "output_type": "execute_result",
     "data": {
      "text/plain": "array([0., 0., 0., 1., 0., 0., 0., 0., 0., 0.])"
     },
     "metadata": {},
     "execution_count": 12
    }
   ],
   "source": [
    "mnist.train.labels[1]"
   ]
  },
  {
   "cell_type": "markdown",
   "metadata": {},
   "source": [
    "##### 独热编码\n",
    "独热编码是一种`稀疏向量`,其中，一个元素设为1，所有其他元素设为0.\n",
    "\n",
    "独热编码常用于表示拥有`有限个可能值`的字符串或者标识符。\n",
    "\n",
    "例如：假设某个植物学数据集记录了15000个不同的物种，其中每个物种都用独一无二的字符串标识符来表示。在特征工程过程中，可能需要将这个字符串标识符编码为独热向量，向量的大小为15000.\n",
    "\n",
    "对于这里的表标签值，使用独热编码后得到的就是一个向量大小为10的独热向量。\n",
    "\n",
    "采用独热编码的好处：\n",
    "\n",
    "* 将离散特征的取值扩展到来欧式空间，离散特征的某个取值就对应欧式空间的某个点；\n",
    "* 机器学习算法中，特征之间距离的计算或相似度常用的计算方法都是基于欧式空间的；\n",
    "* 将离散特征使用独热编码后，会让特征之间的距离计算更加合理。\n",
    "\n",
    "![](./images/2.png)"
   ],
   "execution_count": null,
   "outputs": []
  }
 ]
}