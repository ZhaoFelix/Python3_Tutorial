{
 "cells": [
  {
   "cell_type": "markdown",
   "metadata": {},
   "source": [
    "### 分类模型的构建与训练\n"
   ]
  },
  {
   "cell_type": "markdown",
   "metadata": {},
   "source": [
    "#### 数据集获取\n",
    "\n",
    "MNIST数据集可在[http://yann.lecun.com/exdb/mnist/]() 直接下载，也可以使用Tensorflow提供的数据集读取方法获取。"
   ]
  },
  {
   "cell_type": "code",
   "execution_count": 7,
   "metadata": {},
   "outputs": [
    {
     "output_type": "error",
     "ename": "ModuleNotFoundError",
     "evalue": "No module named 'tensorflow.examples.tutorials'",
     "traceback": [
      "\u001b[0;31m---------------------------------------------------------------------------\u001b[0m",
      "\u001b[0;31mModuleNotFoundError\u001b[0m                       Traceback (most recent call last)",
      "\u001b[0;32m<ipython-input-7-7bbdc690e9c8>\u001b[0m in \u001b[0;36m<module>\u001b[0;34m\u001b[0m\n\u001b[1;32m      1\u001b[0m \u001b[0;32mimport\u001b[0m \u001b[0mtensorflow\u001b[0m \u001b[0;32mas\u001b[0m \u001b[0mtf\u001b[0m\u001b[0;34m\u001b[0m\u001b[0;34m\u001b[0m\u001b[0m\n\u001b[0;32m----> 2\u001b[0;31m \u001b[0;32mimport\u001b[0m \u001b[0mtensorflow\u001b[0m\u001b[0;34m.\u001b[0m\u001b[0mexamples\u001b[0m\u001b[0;34m.\u001b[0m\u001b[0mtutorials\u001b[0m\u001b[0;34m.\u001b[0m\u001b[0mmnist\u001b[0m\u001b[0;34m.\u001b[0m\u001b[0minput_data\u001b[0m \u001b[0;32mas\u001b[0m \u001b[0minput_data\u001b[0m\u001b[0;34m\u001b[0m\u001b[0;34m\u001b[0m\u001b[0m\n\u001b[0m\u001b[1;32m      3\u001b[0m \u001b[0mmnist\u001b[0m \u001b[0;34m=\u001b[0m \u001b[0minput_data\u001b[0m\u001b[0;34m.\u001b[0m\u001b[0mread_data_sets\u001b[0m\u001b[0;34m(\u001b[0m\u001b[0;34m'MNIST/'\u001b[0m\u001b[0;34m,\u001b[0m\u001b[0mone_hot\u001b[0m\u001b[0;34m=\u001b[0m\u001b[0;32mTrue\u001b[0m\u001b[0;34m)\u001b[0m\u001b[0;34m\u001b[0m\u001b[0;34m\u001b[0m\u001b[0m\n",
      "\u001b[0;31mModuleNotFoundError\u001b[0m: No module named 'tensorflow.examples.tutorials'"
     ]
    }
   ],
   "source": [
    "import tensorflow as tf \n",
    "import tensorflow.examples.tutorials.mnist.input_data as input_data\n",
    "mnist = input_data.read_data_sets('MNIST/',one_hot=True)"
   ]
  },
  {
   "cell_type": "code",
   "execution_count": 6,
   "metadata": {},
   "outputs": [
    {
     "output_type": "stream",
     "name": "stdout",
     "text": "2.0.0\n"
    }
   ],
   "source": [
    "print(tf.__version__)"
   ]
  },
  {
   "cell_type": "code",
   "execution_count": 2,
   "metadata": {},
   "outputs": [],
   "source": [
    "# 定义x和y的占位符\n",
    "# mnist 中每张图片共有28*28=784个像素点\n",
    "x = tf.placeholder(tf.float32, [None, 784], name=\"X\") \n",
    "\n",
    "# 0-9 一共10个数字=> 10 个类别\n",
    "y = tf.placeholder(tf.float32, [None, 10], name=\"Y\")  \n",
    "\n",
    "# 定义变量\n",
    "W = tf.Variable(tf.random_normal([784, 10]),name=\"W\")\n",
    "b = tf.Variable(tf.zeros([10]),name=\"b\") \n",
    "\n",
    "forward=tf.matmul(x, W) + b # 前向计算\n",
    "\n",
    "pred = tf.nn.softmax(forward) # Softmax分类"
   ]
  },
  {
   "cell_type": "code",
   "execution_count": 3,
   "metadata": {
    "scrolled": true
   },
   "outputs": [
    {
     "output_type": "stream",
     "name": "stdout",
     "text": "Train Epoch: 01 Loss= 5.579719543  Accuracy= 0.2880\nTrain Epoch: 02 Loss= 3.516610622  Accuracy= 0.4544\nTrain Epoch: 03 Loss= 2.631449223  Accuracy= 0.5532\nTrain Epoch: 04 Loss= 2.161327839  Accuracy= 0.6140\nTrain Epoch: 05 Loss= 1.868612647  Accuracy= 0.6548\nTrain Epoch: 06 Loss= 1.670349956  Accuracy= 0.6872\nTrain Epoch: 07 Loss= 1.526025772  Accuracy= 0.7110\nTrain Epoch: 08 Loss= 1.416240096  Accuracy= 0.7298\nTrain Epoch: 09 Loss= 1.328943014  Accuracy= 0.7440\nTrain Epoch: 10 Loss= 1.257907271  Accuracy= 0.7572\nTrain Epoch: 11 Loss= 1.199871659  Accuracy= 0.7682\nTrain Epoch: 12 Loss= 1.149572492  Accuracy= 0.7772\nTrain Epoch: 13 Loss= 1.107563257  Accuracy= 0.7852\nTrain Epoch: 14 Loss= 1.070685744  Accuracy= 0.7920\nTrain Epoch: 15 Loss= 1.038186908  Accuracy= 0.7982\nTrain Epoch: 16 Loss= 1.008350372  Accuracy= 0.8014\nTrain Epoch: 17 Loss= 0.981877327  Accuracy= 0.8076\nTrain Epoch: 18 Loss= 0.958640635  Accuracy= 0.8114\nTrain Epoch: 19 Loss= 0.936476767  Accuracy= 0.8138\nTrain Epoch: 20 Loss= 0.916685939  Accuracy= 0.8164\nTrain Epoch: 21 Loss= 0.899409175  Accuracy= 0.8196\nTrain Epoch: 22 Loss= 0.881801546  Accuracy= 0.8220\nTrain Epoch: 23 Loss= 0.865828097  Accuracy= 0.8256\nTrain Epoch: 24 Loss= 0.851091921  Accuracy= 0.8288\nTrain Epoch: 25 Loss= 0.837811887  Accuracy= 0.8304\nTrain Epoch: 26 Loss= 0.825611055  Accuracy= 0.8334\nTrain Epoch: 27 Loss= 0.813811600  Accuracy= 0.8352\nTrain Epoch: 28 Loss= 0.802862704  Accuracy= 0.8384\nTrain Epoch: 29 Loss= 0.791405201  Accuracy= 0.8400\nTrain Epoch: 30 Loss= 0.782381237  Accuracy= 0.8400\nTrain Epoch: 31 Loss= 0.773223996  Accuracy= 0.8414\nTrain Epoch: 32 Loss= 0.763525665  Accuracy= 0.8436\nTrain Epoch: 33 Loss= 0.754108131  Accuracy= 0.8446\nTrain Epoch: 34 Loss= 0.746794224  Accuracy= 0.8446\n"
    }
   ],
   "source": [
    "# 设置训练参数\n",
    "train_epochs = 50 # 训练轮数\n",
    "batch_size = 100  # 单次训练样本数（批次大小）\n",
    "total_batch= int(mnist.train.num_examples/batch_size)  # 一轮训练有多少批次\n",
    "display_step = 1  # 显示粒度\n",
    "learning_rate= 0.01  # 学习率\n",
    "\n",
    "# 定义交叉熵损失函数\n",
    "loss_function = tf.reduce_mean(-tf.reduce_sum(y*tf.log(pred), \n",
    "                                              reduction_indices=1)) \n",
    "                                              \n",
    "# 梯度下降优化器\n",
    "optimizer = tf.train.GradientDescentOptimizer(learning_rate).minimize(loss_function)\n",
    "\n",
    " # 定义准确率\n",
    " # 检查预测类别tf.argmax(pred, 1)与实际类别tf.argmax(y, 1)的匹配情况\n",
    "correct_prediction = tf.equal(tf.argmax(pred, 1), tf.argmax(y, 1))\n",
    "# 准确率，将布尔值转化为浮点数，并计算平均值\n",
    "accuracy = tf.reduce_mean(tf.cast(correct_prediction, tf.float32)) \n",
    "\n",
    "sess = tf.Session() #声明会话\n",
    "init = tf.global_variables_initializer() # 变量初始化\n",
    "sess.run(init)\n",
    "\n",
    "# 开始训练\n",
    "for epoch in range(train_epochs ):\n",
    "    for batch in range(total_batch):\n",
    "        xs, ys = mnist.train.next_batch(batch_size)# 读取批次数据\n",
    "        sess.run(optimizer,feed_dict={x: xs,y: ys}) # 执行批次训练\n",
    "    \n",
    "    #total_batch个批次训练完成后，使用验证数据计算误差与准确率；验证集没有分批   \n",
    "    loss,acc = sess.run([loss_function,accuracy],\n",
    "                        feed_dict={x: mnist.validation.images, y: mnist.validation.labels})\n",
    "    # 打印训练过程中的详细信息\n",
    "    if (epoch+1) % display_step == 0:\n",
    "        print(\"Train Epoch:\", '%02d' % (epoch+1), \"Loss=\", \"{:.9f}\".format(loss),\\\n",
    "              \" Accuracy=\",\"{:.4f}\".format(acc))\n",
    "\n",
    "print(\"Train Finished!\")  \n",
    ""
   ]
  },
  {
   "cell_type": "code",
   "execution_count": 1,
   "metadata": {},
   "outputs": [
    {
     "output_type": "error",
     "ename": "NameError",
     "evalue": "name 'sess' is not defined",
     "traceback": [
      "\u001b[0;31m---------------------------------------------------------------------------\u001b[0m",
      "\u001b[0;31mNameError\u001b[0m                                 Traceback (most recent call last)",
      "\u001b[0;32m<ipython-input-1-5c5c9c974d8a>\u001b[0m in \u001b[0;36m<module>\u001b[0;34m\u001b[0m\n\u001b[1;32m      1\u001b[0m \u001b[0;31m# 测试集\u001b[0m\u001b[0;34m\u001b[0m\u001b[0;34m\u001b[0m\u001b[0;34m\u001b[0m\u001b[0m\n\u001b[0;32m----> 2\u001b[0;31m accu_test =  sess.run(accuracy,\n\u001b[0m\u001b[1;32m      3\u001b[0m                       feed_dict={x: mnist.test.images, y: mnist.test.labels})\n\u001b[1;32m      4\u001b[0m \u001b[0;34m\u001b[0m\u001b[0m\n\u001b[1;32m      5\u001b[0m \u001b[0mprint\u001b[0m\u001b[0;34m(\u001b[0m\u001b[0;34m\"Test Accuracy:\"\u001b[0m\u001b[0;34m,\u001b[0m\u001b[0maccu_test\u001b[0m\u001b[0;34m)\u001b[0m\u001b[0;34m\u001b[0m\u001b[0;34m\u001b[0m\u001b[0m\n",
      "\u001b[0;31mNameError\u001b[0m: name 'sess' is not defined"
     ]
    }
   ],
   "source": [
    "# 测试集\n",
    "accu_test =  sess.run(accuracy,\n",
    "                      feed_dict={x: mnist.test.images, y: mnist.test.labels})\n",
    "\n",
    "print(\"Test Accuracy:\",accu_test)\n",
    "\n",
    "# 验证集\n",
    "accu_validation =  sess.run(accuracy,\n",
    "                      feed_dict={x: mnist.validation.images, y: mnist.validation.labels})\n",
    "\n",
    "print(\"Test Accuracy:\",accu_validation)\n",
    "\n",
    "# 训练集\n",
    "accu_train =  sess.run(accuracy,\n",
    "                      feed_dict={x: mnist.train.images, y: mnist.train.labels})\n",
    "\n",
    "print(\"Test Accuracy:\",accu_train)"
   ]
  },
  {
   "cell_type": "code",
   "execution_count": 2,
   "metadata": {},
   "outputs": [
    {
     "output_type": "error",
     "ename": "NameError",
     "evalue": "name 'sess' is not defined",
     "traceback": [
      "\u001b[0;31m---------------------------------------------------------------------------\u001b[0m",
      "\u001b[0;31mNameError\u001b[0m                                 Traceback (most recent call last)",
      "\u001b[0;32m<ipython-input-2-0f0d23255511>\u001b[0m in \u001b[0;36m<module>\u001b[0;34m\u001b[0m\n\u001b[1;32m      1\u001b[0m \u001b[0;31m# 由于pred预测结果是one-hot编码格式，所以需要转换为0~9数字\u001b[0m\u001b[0;34m\u001b[0m\u001b[0;34m\u001b[0m\u001b[0;34m\u001b[0m\u001b[0m\n\u001b[0;32m----> 2\u001b[0;31m prediction_result=sess.run(tf.argmax(pred,1), \n\u001b[0m\u001b[1;32m      3\u001b[0m                            feed_dict={x: mnist.test.images })\n\u001b[1;32m      4\u001b[0m \u001b[0;34m\u001b[0m\u001b[0m\n\u001b[1;32m      5\u001b[0m \u001b[0;31m#查看预测结果中的前10项\u001b[0m\u001b[0;34m\u001b[0m\u001b[0;34m\u001b[0m\u001b[0;34m\u001b[0m\u001b[0m\n",
      "\u001b[0;31mNameError\u001b[0m: name 'sess' is not defined"
     ]
    }
   ],
   "source": [
    "# 由于pred预测结果是one-hot编码格式，所以需要转换为0~9数字\n",
    "prediction_result=sess.run(tf.argmax(pred,1), \n",
    "                           feed_dict={x: mnist.test.images })\n",
    "                           \n",
    "#查看预测结果中的前10项\n",
    "prediction_result[0:10]"
   ]
  },
  {
   "cell_type": "code",
   "execution_count": 3,
   "metadata": {},
   "outputs": [
    {
     "output_type": "error",
     "ename": "NameError",
     "evalue": "name 'mnist' is not defined",
     "traceback": [
      "\u001b[0;31m---------------------------------------------------------------------------\u001b[0m",
      "\u001b[0;31mNameError\u001b[0m                                 Traceback (most recent call last)",
      "\u001b[0;32m<ipython-input-3-a3240993181a>\u001b[0m in \u001b[0;36m<module>\u001b[0;34m\u001b[0m\n\u001b[1;32m     27\u001b[0m \u001b[0;34m\u001b[0m\u001b[0m\n\u001b[1;32m     28\u001b[0m \u001b[0;34m\u001b[0m\u001b[0m\n\u001b[0;32m---> 29\u001b[0;31m plot_images_labels_prediction(mnist.test.images,\n\u001b[0m\u001b[1;32m     30\u001b[0m                               \u001b[0mmnist\u001b[0m\u001b[0;34m.\u001b[0m\u001b[0mtest\u001b[0m\u001b[0;34m.\u001b[0m\u001b[0mlabels\u001b[0m\u001b[0;34m,\u001b[0m\u001b[0;34m\u001b[0m\u001b[0;34m\u001b[0m\u001b[0m\n\u001b[1;32m     31\u001b[0m                               prediction_result,10,25)\n",
      "\u001b[0;31mNameError\u001b[0m: name 'mnist' is not defined"
     ]
    }
   ],
   "source": [
    "import matplotlib.pyplot as plt\n",
    "import numpy as np\n",
    "def plot_images_labels_prediction(images,      # 图像列表\n",
    "                                  labels,      # 标签列表\n",
    "                                  prediction,  # 预测值列表\n",
    "                                  index,       # 从第index个开始显示\n",
    "                                  num=10 ):    # 缺省一次显示 10 幅\n",
    "    fig = plt.gcf() # 获取当前图表，Get Current Figure\n",
    "    fig.set_size_inches(10, 12)  # 1英寸等于 2.54 cm\n",
    "    if num > 25: \n",
    "        num = 25            # 最多显示25个子图\n",
    "    for i in range(0, num):\n",
    "        ax = plt.subplot(5,5, i+1) # 获取当前要处理的子图\n",
    "        \n",
    "        ax.imshow(np.reshape(images[index],(28, 28)),  # 显示第index个图像\n",
    "                  cmap='binary')\n",
    "            \n",
    "        title = \"label=\" + str(np.argmax(labels[index]))  # 构建该图上要显示的title信息\n",
    "        if len(prediction)>0:\n",
    "            title += \",predict=\" + str(prediction[index]) \n",
    "            \n",
    "        ax.set_title(title,fontsize=10)   # 显示图上的title信息\n",
    "        ax.set_xticks([]);  # 不显示坐标轴\n",
    "        ax.set_yticks([])        \n",
    "        index += 1 \n",
    "    plt.show()\n",
    "    \n",
    "    \n",
    "plot_images_labels_prediction(mnist.test.images,\n",
    "                              mnist.test.labels,\n",
    "                              prediction_result,10,25)"
   ]
  }
 ],
 "metadata": {
  "file_extension": ".py",
  "kernelspec": {
   "display_name": "Python 3.7.4 64-bit ('base': conda)",
   "language": "python",
   "name": "python37464bitbasecondadd42d1ef602043dc841f71a38f7b3b91"
  },
  "language_info": {
   "codemirror_mode": {
    "name": "ipython",
    "version": 3
   },
   "file_extension": ".py",
   "mimetype": "text/x-python",
   "name": "python",
   "nbconvert_exporter": "python",
   "pygments_lexer": "ipython3",
   "version": "3.7.4-final"
  },
  "mimetype": "text/x-python",
  "name": "python",
  "npconvert_exporter": "python",
  "pygments_lexer": "ipython3",
  "version": 3
 },
 "nbformat": 4,
 "nbformat_minor": 2
}